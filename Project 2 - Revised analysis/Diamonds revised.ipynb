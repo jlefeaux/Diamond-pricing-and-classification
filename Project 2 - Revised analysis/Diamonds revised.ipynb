{
 "cells": [
  {
   "cell_type": "code",
   "execution_count": 1,
   "metadata": {},
   "outputs": [],
   "source": [
    "# import kagglehub\n",
    "\n",
    "# path = kagglehub.dataset_download(\"hrokrin/the-largest-diamond-dataset-currely-on-kaggle\")\n",
    "# filepath = path + '\\\\diamonds.csv'\n",
    "# filepath"
   ]
  },
  {
   "cell_type": "markdown",
   "metadata": {},
   "source": [
    "# Libraries"
   ]
  },
  {
   "cell_type": "code",
   "execution_count": 2,
   "metadata": {},
   "outputs": [],
   "source": [
    "import numpy as np\n",
    "import pandas as pd\n",
    "from pandas.api.types import CategoricalDtype\n",
    "\n",
    "from sklearn.preprocessing import StandardScaler\n",
    "from sklearn.model_selection import train_test_split\n",
    "from sklearn.metrics import classification_report, accuracy_score, confusion_matrix, roc_curve, auc\n",
    "from sklearn.cluster import KMeans\n",
    "from sklearn.svm import SVC\n",
    "from sklearn.linear_model import LinearRegression\n",
    "\n",
    "from imblearn.ensemble import BalancedRandomForestClassifier\n",
    "\n",
    "import matplotlib.pyplot as plt\n",
    "import seaborn as sns"
   ]
  },
  {
   "cell_type": "markdown",
   "metadata": {},
   "source": [
    "# Helper functions"
   ]
  },
  {
   "cell_type": "markdown",
   "metadata": {},
   "source": [
    "### `info_df`"
   ]
  },
  {
   "cell_type": "markdown",
   "metadata": {},
   "source": [
    "This is a function that I plan to keep developing with more information columns in the returned dataframe."
   ]
  },
  {
   "cell_type": "code",
   "execution_count": 3,
   "metadata": {},
   "outputs": [],
   "source": [
    "def info_df(df, print_result=False):\n",
    "    non_null = len(df)-df.isnull().sum().values\n",
    "    null = df.isnull().sum().values\n",
    "    pct_non_null = np.round(100 * non_null / (non_null + null), 0)\n",
    "    types = df.dtypes.values\n",
    "    \n",
    "    info_df = pd.DataFrame({\n",
    "            \"name\": df.columns,\n",
    "            \"non_null\": non_null,\n",
    "            \"null\": null,\n",
    "            \"non_null_pct\": pct_non_null,\n",
    "            \"type\": types\n",
    "        })\n",
    "    \n",
    "    if print_result:\n",
    "        print(info_df)\n",
    "        print()\n",
    "        print(f'{df.shape[0]:,} rows')\n",
    "        \n",
    "    return info_df"
   ]
  },
  {
   "cell_type": "markdown",
   "metadata": {},
   "source": [
    "### `plot_corr_heatmap`"
   ]
  },
  {
   "cell_type": "code",
   "execution_count": 4,
   "metadata": {},
   "outputs": [],
   "source": [
    "def plot_corr_heatmap(df, method):\n",
    "    '''\n",
    "    Plots a heatmap of the correlation matrix for df.\n",
    "    Inputs:\n",
    "        Dataframe: Dataframe to compute pairwise column correlations\n",
    "        method: {‘pearson’, ‘kendall’, ‘spearman’} or callable\n",
    "    '''\n",
    "\n",
    "    # Copied code from seaborn examples\n",
    "    # https://seaborn.pydata.org/examples/many_pairwise_correlations.html\n",
    "    sns.set(style=\"white\")\n",
    "\n",
    "    # Generate a mask for the upper triangle\n",
    "    mask = np.zeros_like(df.corr())\n",
    "    mask[np.triu_indices_from(mask)] = True\n",
    "\n",
    "    # Set up the matplotlib figure\n",
    "    f, ax = plt.subplots(figsize=(10, 10))\n",
    "\n",
    "    # Generate a custom diverging colormap\n",
    "    cmap = sns.diverging_palette(220, 10, as_cmap=True)\n",
    "\n",
    "    # Draw the heatmap with the mask and correct aspect ratio\n",
    "    # sns.heatmap(df.corr(), mask=mask, cmap=cmap, vmax=1, center=0,\n",
    "    #             square=True, linewidths=.5, cbar_kws={\"shrink\": .5}, annot=True)\n",
    "    sns.heatmap(df.corr(method=method, numeric_only=True), cmap=cmap, vmax=1, center=0,\n",
    "                square=True, linewidths=.5, cbar_kws={\"shrink\": .5}, annot=True)"
   ]
  },
  {
   "cell_type": "markdown",
   "metadata": {},
   "source": [
    "### `print_scores`"
   ]
  },
  {
   "cell_type": "code",
   "execution_count": 5,
   "metadata": {},
   "outputs": [],
   "source": [
    "def print_scores(training_score, testing_score, metric='R^2'):\n",
    "    print(f'Training {metric}: {training_score:.4}')\n",
    "    print(f'Testing {metric}: {testing_score:.4}')"
   ]
  },
  {
   "cell_type": "markdown",
   "metadata": {},
   "source": [
    "# Load data"
   ]
  },
  {
   "cell_type": "markdown",
   "metadata": {},
   "source": [
    "## Filepath & categorical variables"
   ]
  },
  {
   "cell_type": "markdown",
   "metadata": {},
   "source": [
    "### Filepath"
   ]
  },
  {
   "cell_type": "code",
   "execution_count": 6,
   "metadata": {},
   "outputs": [],
   "source": [
    "filepath = 'C:\\\\Users\\\\jlefe\\\\.cache\\\\kagglehub\\\\datasets\\\\hrokrin\\\\the-largest-diamond-dataset-currely-on-kaggle\\\\versions\\\\1\\\\diamonds.csv'"
   ]
  },
  {
   "cell_type": "markdown",
   "metadata": {},
   "source": [
    "1. Read \"unknown\" as NaN\n",
    "2. Create & assign customized categorial data types\n",
    "2. Read `eye_clean` value of 'E1' as NaN, by excluding it from the domain specification\n",
    "    - The rating is ambiguous\n",
    "    - This rating only occurs in rows attributed to the GIA lab, whereas the GIA (Gemological Institute of America) professes not to use eye clean as a grading factor.\n",
    "    - 300 of ~220K rows - only 1.4% of data set\n",
    "3. Rename `cut` to `shape` (avoid confusion with traditional 'cut' which here is `cut_quality`)"
   ]
  },
  {
   "cell_type": "markdown",
   "metadata": {},
   "source": [
    "### Define categorical variables"
   ]
  },
  {
   "cell_type": "code",
   "execution_count": 7,
   "metadata": {},
   "outputs": [],
   "source": [
    "nom_vars = ['cut', 'lab', 'fancy_color_dominant_color', 'fancy_color_secondary_color', 'fancy_color_overtone', 'fancy_color_intensity']\n",
    "nominal_cat = {col_name:'category' for col_name in nom_vars}\n",
    "\n",
    "# Quality categories are ordered from worst to best\n",
    "ordinal_cat = {\n",
    "    'cut_quality':CategoricalDtype(['Fair', 'Good', 'Very Good', 'Excellent', 'Ideal'], ordered=True),\n",
    "    'color':CategoricalDtype(['M', 'L', 'K', 'J', 'I', 'H', 'G', 'F', 'E', 'D'], ordered=True),\n",
    "    'clarity':CategoricalDtype(['I3', 'I2', 'I1', 'SI3', 'SI2', 'SI1', 'VS2', 'VS1', 'VVS2', 'VVS1', 'IF'], ordered=True),\n",
    "    'symmetry': CategoricalDtype(['Poor', 'Fair', 'Good', 'Very Good', 'Excellent'], ordered=True),\n",
    "    'polish': CategoricalDtype(['Poor', 'Fair', 'Good', 'Very Good', 'Excellent'], ordered=True),\n",
    "    'eye_clean': CategoricalDtype(['No', 'Borderline', 'Yes'], ordered=True),\n",
    "    'culet_size': CategoricalDtype(['EL', 'VL', 'L', 'SL', 'M', 'S', 'VS', 'N'], ordered=True),\n",
    "    'culet_condition': CategoricalDtype(['Chipped', 'Abraded', 'Pointed'], ordered=True),\n",
    "    'girdle_min': CategoricalDtype(['XTN', 'VTN', 'STN', 'TN', 'M', 'STK', 'TK', 'VTK', 'XTK'], ordered=True),\n",
    "    'girdle_max': CategoricalDtype(['XTN', 'VTN', 'STN', 'TN', 'M', 'STK', 'TK', 'VTK', 'XTK'], ordered=True),\n",
    "}\n",
    "\n",
    "ord_vars = list(ordinal_cat.keys())"
   ]
  },
  {
   "cell_type": "markdown",
   "metadata": {},
   "source": [
    "## (1) Load"
   ]
  },
  {
   "cell_type": "code",
   "execution_count": 8,
   "metadata": {},
   "outputs": [],
   "source": [
    "diamonds = pd.read_csv(filepath, index_col=0, na_values=['unknown'], dtype={**ordinal_cat, **nominal_cat})\n",
    "diamonds.rename(columns={'cut':'shape', 'color':'clear_color_quality'}, inplace=True)\n",
    "# print(info_df(diamonds))"
   ]
  },
  {
   "cell_type": "markdown",
   "metadata": {},
   "source": [
    "## Update variable lists\n",
    "\n",
    "They will be used later."
   ]
  },
  {
   "cell_type": "code",
   "execution_count": 9,
   "metadata": {},
   "outputs": [
    {
     "name": "stdout",
     "output_type": "stream",
     "text": [
      "Continuous variables: ['carat_weight', 'depth_percent', 'table_percent', 'meas_length', 'meas_width', 'meas_depth', 'total_sales_price']\n",
      "Ordinal variables: ['cut_quality', 'clarity', 'symmetry', 'polish', 'eye_clean', 'culet_size', 'culet_condition', 'girdle_min', 'girdle_max', 'clear_color_quality']\n",
      "Nominal variables: ['lab', 'fancy_color_dominant_color', 'fancy_color_secondary_color', 'fancy_color_overtone', 'fancy_color_intensity', 'shape']\n"
     ]
    }
   ],
   "source": [
    "nom_vars.remove('cut')\n",
    "nom_vars.append('shape')\n",
    "\n",
    "ord_vars.remove('color')\n",
    "ord_vars.append('clear_color_quality')\n",
    "\n",
    "num_vars = list(diamonds.select_dtypes(include = 'number').columns)\n",
    "\n",
    "print(f'Continuous variables: {num_vars}')\n",
    "print(f'Ordinal variables: {ord_vars}')\n",
    "print(f'Nominal variables: {nom_vars}')"
   ]
  },
  {
   "cell_type": "markdown",
   "metadata": {},
   "source": [
    "# (2) Initial data cleaning\n",
    "- Remove lab column\n",
    "- Remove duplicates\n",
    "- Remove 0s from numeric columns (invalid data)\n",
    "- Encode ordinal variables"
   ]
  },
  {
   "cell_type": "code",
   "execution_count": 10,
   "metadata": {},
   "outputs": [],
   "source": [
    "# Remove 'lab' column\n",
    "diamonds.drop(columns='lab', inplace=True, errors='ignore')\n",
    "\n",
    "# Remove duplicates\n",
    "diamonds.drop_duplicates(inplace=True)\n",
    "\n",
    "# Remove rows with 0 values in numerical data\n",
    "diamonds = diamonds[~(diamonds[num_vars] <= 0).any(axis=1)]\n",
    "\n",
    "# Encode ordinal categories\n",
    "diamonds = pd.DataFrame({\n",
    "    var_name: diamonds[var_name].cat.codes.where(diamonds[var_name].notna()) if var_name in ord_vars else diamonds[var_name]\n",
    "    for var_name in diamonds.columns\n",
    "})"
   ]
  },
  {
   "cell_type": "markdown",
   "metadata": {},
   "source": [
    "# Separate & recombine"
   ]
  },
  {
   "cell_type": "markdown",
   "metadata": {},
   "source": [
    "## (3a) Separate\n",
    "\n",
    "### Fancy diamonds\n",
    "- Define\n",
    "- Drop columns with na\n",
    "- Remove volume measures\n",
    "\n",
    "### Clear diamonds\n",
    "- Define\n",
    "- Drop columns with >50% na\n",
    "- Remove the rest of the missing data by removing rows with missing values\n",
    "- Remove volume measures"
   ]
  },
  {
   "cell_type": "code",
   "execution_count": 11,
   "metadata": {},
   "outputs": [],
   "source": [
    "# fancy diamonds\n",
    "fancy_diamonds = diamonds[diamonds.fancy_color_dominant_color.notna()].copy()\n",
    "fancy_diamonds.dropna(axis='columns', inplace=True)\n",
    "\n",
    "volume_measures = ['meas_length', 'meas_width', 'meas_depth']\n",
    "fancy_diamonds.drop(columns=volume_measures, inplace=True, errors='ignore')\n",
    "\n",
    "# clear diamonds\n",
    "clear_diamonds = diamonds[diamonds.fancy_color_dominant_color.isna()].drop(columns=[col_name for col_name in diamonds.columns if col_name.startswith('fancy')])\n",
    "\n",
    "clear_info = info_df(clear_diamonds)\n",
    "drop_cols = list(clear_info[clear_info.non_null_pct < 50]['name'])\n",
    "clear_diamonds.drop(columns=drop_cols, inplace=True, errors='ignore')\n",
    "\n",
    "clear_diamonds.dropna(inplace=True)\n",
    "clear_diamonds.drop(columns=volume_measures, inplace=True, errors='ignore')"
   ]
  },
  {
   "cell_type": "markdown",
   "metadata": {},
   "source": [
    "## (3b) Combine"
   ]
  },
  {
   "cell_type": "code",
   "execution_count": 12,
   "metadata": {},
   "outputs": [],
   "source": [
    "# dominant_color:\n",
    "#   Rename `fancy_color_dominant_color` to `dominant_color` in `fancy_diamonds`.\n",
    "#   Add `dominant_color` to `clear_diamonds` with value 'clear'\n",
    "fancy_diamonds.rename(columns={'fancy_color_dominant_color':'dominant_color'}, inplace=True)\n",
    "clear_diamonds['dominant_color'] = 'clear'\n",
    "\n",
    "# Which columns are useful for both sets?\n",
    "clear_columns = set(clear_diamonds.columns)\n",
    "fancy_columns = set(fancy_diamonds.columns)\n",
    "common_columns = list(clear_columns.intersection(fancy_columns))\n",
    "\n",
    "# Redefine diamonds\n",
    "diamonds = pd.concat([fancy_diamonds[common_columns], clear_diamonds[common_columns]])\n",
    "diamonds['dominant_color'] = diamonds['dominant_color'].astype('category') #Recast after adding new value \"clear\"\n",
    "\n",
    "diamonds['is_fancy'] = diamonds.dominant_color != 'clear'"
   ]
  },
  {
   "cell_type": "markdown",
   "metadata": {},
   "source": [
    "# (4) Get dummy variables for `shape` and `dominant_color`"
   ]
  },
  {
   "cell_type": "markdown",
   "metadata": {},
   "source": [
    "Saved until last b/c this creates so many extra columns"
   ]
  },
  {
   "cell_type": "code",
   "execution_count": 13,
   "metadata": {},
   "outputs": [],
   "source": [
    "shape_dummies = pd.get_dummies(diamonds['shape'], dtype='int', prefix='shape')\n",
    "color_dummies = pd.get_dummies(diamonds['dominant_color'], dtype='int', prefix='color')\n",
    "\n",
    "diamonds = diamonds.drop(columns='shape').merge(shape_dummies, left_index=True, right_index=True)\n",
    "diamonds = diamonds.drop(columns='dominant_color').merge(color_dummies, left_index=True, right_index=True)\n",
    "diamonds.columns = diamonds.columns.str.replace(' ', '_')"
   ]
  },
  {
   "cell_type": "code",
   "execution_count": 14,
   "metadata": {},
   "outputs": [
    {
     "name": "stdout",
     "output_type": "stream",
     "text": [
      "color_Black\n",
      "color_Blue\n",
      "color_Brown\n",
      "color_Chameleon\n",
      "color_Gray\n",
      "color_Green\n",
      "color_Orange\n",
      "color_Other\n",
      "color_Pink\n",
      "color_Purple\n",
      "color_Red\n",
      "color_Yellow\n",
      "color_clear\n"
     ]
    }
   ],
   "source": [
    "for c in color_dummies.columns:\n",
    "    print(c)"
   ]
  },
  {
   "cell_type": "markdown",
   "metadata": {},
   "source": [
    "These are some short helper functions that will make later code easier & more readable"
   ]
  },
  {
   "cell_type": "code",
   "execution_count": 15,
   "metadata": {},
   "outputs": [],
   "source": [
    "def drop_colors(df):\n",
    "    return df.drop(columns=[c for c in df.columns if c.startswith('color_')])\n",
    "\n",
    "def drop_shapes(df):\n",
    "    return df.drop(columns=[c for c in df.columns if c.startswith('shape_')])"
   ]
  },
  {
   "cell_type": "markdown",
   "metadata": {},
   "source": [
    "⛔ Do not modify `diamonds` going forward. Only make copies."
   ]
  },
  {
   "cell_type": "markdown",
   "metadata": {},
   "source": [
    "# Keep track of scores for different classificatoin models"
   ]
  },
  {
   "cell_type": "code",
   "execution_count": 16,
   "metadata": {},
   "outputs": [],
   "source": [
    "classification_accuracy_scores = []"
   ]
  },
  {
   "cell_type": "markdown",
   "metadata": {},
   "source": [
    "# 💎 Balanced random forest, revisited"
   ]
  },
  {
   "cell_type": "markdown",
   "metadata": {},
   "source": [
    "Use a balanced model because the proportion of fancy diamonds is quite small (~10%)\n",
    "\n",
    "Notes on the parameters, from the documentation:\n",
    "- The default of `bootstrap` will change from `True` to `False` in version 0.13.\n",
    "- Bootstrapping is already taken care by the internal sampler using `replacement=True`."
   ]
  },
  {
   "cell_type": "markdown",
   "metadata": {},
   "source": [
    "## Create separate dataframes with and without the 'shape' column\n",
    "\n",
    "Fancy diamonds have a greater variety of shapes (11) than clear diamonds (9). Could this be influencing the almost-too-good results?\n",
    "\n",
    "Create separate dataframes to run an addition RF without the shape columns."
   ]
  },
  {
   "cell_type": "code",
   "execution_count": 17,
   "metadata": {},
   "outputs": [],
   "source": [
    "no_color = drop_colors(diamonds)\n",
    "no_color_no_shape = drop_shapes(no_color)"
   ]
  },
  {
   "cell_type": "markdown",
   "metadata": {},
   "source": [
    "Get fancy proportion:"
   ]
  },
  {
   "cell_type": "code",
   "execution_count": 18,
   "metadata": {},
   "outputs": [
    {
     "name": "stdout",
     "output_type": "stream",
     "text": [
      "is_fancy\n",
      "False    85065\n",
      "True      8923\n",
      "Name: count, dtype: int64\n",
      "Fancy percent:10.49%\n"
     ]
    }
   ],
   "source": [
    "fancy_pct = no_color.is_fancy.value_counts()[True] / no_color.is_fancy.value_counts()[False]\n",
    "\n",
    "print(no_color.is_fancy.value_counts())\n",
    "print(f'Fancy percent:{fancy_pct:.2%}')"
   ]
  },
  {
   "cell_type": "markdown",
   "metadata": {},
   "source": [
    "## With shape"
   ]
  },
  {
   "cell_type": "markdown",
   "metadata": {},
   "source": [
    "### Setup: Features & target; training and test sets"
   ]
  },
  {
   "cell_type": "code",
   "execution_count": 19,
   "metadata": {},
   "outputs": [],
   "source": [
    "X_with_shape = no_color.drop(columns='is_fancy')\n",
    "y_with_shape = no_color['is_fancy']\n",
    "X_with_shape_train, X_with_shape_test, y_with_shape_train, y_with_shape_test = train_test_split(X_with_shape, y_with_shape, random_state=42, shuffle=True)"
   ]
  },
  {
   "cell_type": "markdown",
   "metadata": {},
   "source": [
    "###  Model"
   ]
  },
  {
   "cell_type": "code",
   "execution_count": 20,
   "metadata": {},
   "outputs": [],
   "source": [
    "with_shape_rfc = BalancedRandomForestClassifier(sampling_strategy='all', replacement=True, bootstrap=False)\n",
    "with_shape_rfc.fit(X_with_shape_train, y_with_shape_train)\n",
    "y_with_shape_train_pred = with_shape_rfc.predict(X_with_shape_train)\n",
    "y_with_shape_test_pred = with_shape_rfc.predict(X_with_shape_test)"
   ]
  },
  {
   "cell_type": "markdown",
   "metadata": {},
   "source": [
    "### Results"
   ]
  },
  {
   "cell_type": "markdown",
   "metadata": {},
   "source": [
    "#### Training results"
   ]
  },
  {
   "cell_type": "code",
   "execution_count": 21,
   "metadata": {},
   "outputs": [
    {
     "name": "stdout",
     "output_type": "stream",
     "text": [
      "[[63593   159]\n",
      " [    0  6739]]\n",
      "\n",
      "Accuracy: 99.77%\n",
      "\n",
      "              precision    recall  f1-score   support\n",
      "\n",
      "       False       1.00      1.00      1.00     63752\n",
      "        True       0.98      1.00      0.99      6739\n",
      "\n",
      "    accuracy                           1.00     70491\n",
      "   macro avg       0.99      1.00      0.99     70491\n",
      "weighted avg       1.00      1.00      1.00     70491\n",
      "\n"
     ]
    }
   ],
   "source": [
    "training_acc = accuracy_score(y_with_shape_train, y_with_shape_train_pred)\n",
    "\n",
    "print(confusion_matrix(y_with_shape_train, y_with_shape_train_pred))\n",
    "print()\n",
    "print(f'Accuracy: {training_acc:.2%}')\n",
    "print()\n",
    "print(classification_report(y_with_shape_train, y_with_shape_train_pred))"
   ]
  },
  {
   "cell_type": "markdown",
   "metadata": {},
   "source": [
    "#### Testing results"
   ]
  },
  {
   "cell_type": "code",
   "execution_count": 22,
   "metadata": {},
   "outputs": [
    {
     "name": "stdout",
     "output_type": "stream",
     "text": [
      "[[21262    51]\n",
      " [   15  2169]]\n",
      "\n",
      "Accuracy: 99.72%\n",
      "\n",
      "              precision    recall  f1-score   support\n",
      "\n",
      "       False       1.00      1.00      1.00     21313\n",
      "        True       0.98      0.99      0.99      2184\n",
      "\n",
      "    accuracy                           1.00     23497\n",
      "   macro avg       0.99      1.00      0.99     23497\n",
      "weighted avg       1.00      1.00      1.00     23497\n",
      "\n"
     ]
    }
   ],
   "source": [
    "testing_acc = accuracy_score(y_with_shape_test, y_with_shape_test_pred)\n",
    "\n",
    "print(confusion_matrix(y_with_shape_test, y_with_shape_test_pred))\n",
    "print()\n",
    "print(f'Accuracy: {accuracy_score(y_with_shape_test, y_with_shape_test_pred):.2%}')\n",
    "print()\n",
    "print(classification_report(y_with_shape_test, y_with_shape_test_pred))"
   ]
  },
  {
   "cell_type": "markdown",
   "metadata": {},
   "source": [
    "##### Log score"
   ]
  },
  {
   "cell_type": "code",
   "execution_count": 23,
   "metadata": {},
   "outputs": [],
   "source": [
    "classification_accuracy_scores.append(('BRF', training_acc, testing_acc))"
   ]
  },
  {
   "cell_type": "markdown",
   "metadata": {},
   "source": [
    "## Without shape"
   ]
  },
  {
   "cell_type": "markdown",
   "metadata": {},
   "source": [
    "### Setup: Features & target; training and test sets"
   ]
  },
  {
   "cell_type": "code",
   "execution_count": 24,
   "metadata": {},
   "outputs": [],
   "source": [
    "X_no_shape = no_color_no_shape.drop(columns='is_fancy')\n",
    "y_no_shape = no_color_no_shape['is_fancy']\n",
    "X_no_shape_train, X_no_shape_test, y_no_shape_train, y_no_shape_test = train_test_split(X_no_shape, y_no_shape, random_state=42, shuffle=True)"
   ]
  },
  {
   "cell_type": "markdown",
   "metadata": {},
   "source": [
    "###  Model"
   ]
  },
  {
   "cell_type": "code",
   "execution_count": 25,
   "metadata": {},
   "outputs": [],
   "source": [
    "no_shape_rfc = BalancedRandomForestClassifier(sampling_strategy='all', replacement=True, bootstrap=False)\n",
    "no_shape_rfc.fit(X_no_shape_train, y_no_shape_train)\n",
    "y_no_shape_train_pred = no_shape_rfc.predict(X_no_shape_train)\n",
    "y_no_shape_test_pred = no_shape_rfc.predict(X_no_shape_test)"
   ]
  },
  {
   "cell_type": "markdown",
   "metadata": {},
   "source": [
    "### Results"
   ]
  },
  {
   "cell_type": "markdown",
   "metadata": {},
   "source": [
    "#### Training results"
   ]
  },
  {
   "cell_type": "code",
   "execution_count": 26,
   "metadata": {},
   "outputs": [
    {
     "name": "stdout",
     "output_type": "stream",
     "text": [
      "[[63253   499]\n",
      " [    0  6739]]\n",
      "\n",
      "Accuracy: 99.29%\n",
      "\n",
      "              precision    recall  f1-score   support\n",
      "\n",
      "       False       1.00      0.99      1.00     63752\n",
      "        True       0.93      1.00      0.96      6739\n",
      "\n",
      "    accuracy                           0.99     70491\n",
      "   macro avg       0.97      1.00      0.98     70491\n",
      "weighted avg       0.99      0.99      0.99     70491\n",
      "\n"
     ]
    }
   ],
   "source": [
    "training_acc = accuracy_score(y_no_shape_train, y_no_shape_train_pred)\n",
    "\n",
    "print(confusion_matrix(y_no_shape_train, y_no_shape_train_pred))\n",
    "print()\n",
    "print(f'Accuracy: {training_acc:.2%}')\n",
    "print()\n",
    "print(classification_report(y_no_shape_train, y_no_shape_train_pred))\n"
   ]
  },
  {
   "cell_type": "markdown",
   "metadata": {},
   "source": [
    "#### Testing results"
   ]
  },
  {
   "cell_type": "code",
   "execution_count": 27,
   "metadata": {},
   "outputs": [
    {
     "name": "stdout",
     "output_type": "stream",
     "text": [
      "[[21075   238]\n",
      " [   73  2111]]\n",
      "\n",
      "Accuracy: 98.68%\n",
      "\n",
      "              precision    recall  f1-score   support\n",
      "\n",
      "       False       1.00      0.99      0.99     21313\n",
      "        True       0.90      0.97      0.93      2184\n",
      "\n",
      "    accuracy                           0.99     23497\n",
      "   macro avg       0.95      0.98      0.96     23497\n",
      "weighted avg       0.99      0.99      0.99     23497\n",
      "\n"
     ]
    }
   ],
   "source": [
    "testing_acc = accuracy_score(y_no_shape_test, y_no_shape_test_pred)\n",
    "\n",
    "print(confusion_matrix(y_no_shape_test, y_no_shape_test_pred))\n",
    "print()\n",
    "print(f'Accuracy: {testing_acc:.2%}')\n",
    "print()\n",
    "print(classification_report(y_no_shape_test, y_no_shape_test_pred))"
   ]
  },
  {
   "cell_type": "markdown",
   "metadata": {},
   "source": [
    "##### Log score"
   ]
  },
  {
   "cell_type": "code",
   "execution_count": 28,
   "metadata": {},
   "outputs": [],
   "source": [
    "classification_accuracy_scores.append(('BRF_no_shape', training_acc, testing_acc))"
   ]
  },
  {
   "cell_type": "markdown",
   "metadata": {},
   "source": [
    "# 💎 SVC"
   ]
  },
  {
   "cell_type": "markdown",
   "metadata": {},
   "source": [
    "## Setup: Features & target; scaling; training and test sets"
   ]
  },
  {
   "cell_type": "markdown",
   "metadata": {},
   "source": [
    "(NB: Using Euclidean distance)"
   ]
  },
  {
   "cell_type": "code",
   "execution_count": 29,
   "metadata": {},
   "outputs": [],
   "source": [
    "# Features & target\n",
    "X = drop_colors(diamonds).drop(columns='is_fancy')\n",
    "y = diamonds.is_fancy\n",
    "\n",
    "# Scaling\n",
    "scaler = StandardScaler()\n",
    "X_scaled = pd.DataFrame(scaler.fit_transform(X), columns=X.columns)\n",
    "\n",
    "# Train/test splits\n",
    "X_svc_train, X_svc_test, y_svc_train, y_svc_test = train_test_split(X_scaled, y)"
   ]
  },
  {
   "cell_type": "markdown",
   "metadata": {},
   "source": [
    "## Model"
   ]
  },
  {
   "cell_type": "code",
   "execution_count": 30,
   "metadata": {},
   "outputs": [],
   "source": [
    "svm = SVC(kernel='linear', probability=True)\n",
    "svm.fit(X_svc_train, y_svc_train)\n",
    "y_svc_train_pred = svm.predict(X_svc_train)\n",
    "y_svc_test_pred = svm.predict(X_svc_test)"
   ]
  },
  {
   "cell_type": "markdown",
   "metadata": {},
   "source": [
    "### Training results"
   ]
  },
  {
   "cell_type": "code",
   "execution_count": 31,
   "metadata": {},
   "outputs": [
    {
     "name": "stdout",
     "output_type": "stream",
     "text": [
      "Accuracy: 99.73%\n",
      "\n",
      "              precision    recall  f1-score   support\n",
      "\n",
      "       False       1.00      1.00      1.00     63762\n",
      "        True       0.98      0.99      0.99      6729\n",
      "\n",
      "    accuracy                           1.00     70491\n",
      "   macro avg       0.99      0.99      0.99     70491\n",
      "weighted avg       1.00      1.00      1.00     70491\n",
      "\n"
     ]
    }
   ],
   "source": [
    "training_acc = accuracy_score(y_svc_train, y_svc_train_pred)\n",
    "\n",
    "print(f'Accuracy: {training_acc:.2%}')\n",
    "print()\n",
    "print(classification_report(y_svc_train, y_svc_train_pred))"
   ]
  },
  {
   "cell_type": "markdown",
   "metadata": {},
   "source": [
    "### Testing results"
   ]
  },
  {
   "cell_type": "code",
   "execution_count": 32,
   "metadata": {},
   "outputs": [
    {
     "name": "stdout",
     "output_type": "stream",
     "text": [
      "Accuracy: 99.72%\n",
      "\n",
      "              precision    recall  f1-score   support\n",
      "\n",
      "       False       1.00      1.00      1.00     21303\n",
      "        True       0.98      0.99      0.98      2194\n",
      "\n",
      "    accuracy                           1.00     23497\n",
      "   macro avg       0.99      0.99      0.99     23497\n",
      "weighted avg       1.00      1.00      1.00     23497\n",
      "\n"
     ]
    }
   ],
   "source": [
    "testing_acc = accuracy_score(y_svc_test, y_svc_test_pred)\n",
    "\n",
    "print(f'Accuracy: {testing_acc:.2%}')\n",
    "print()\n",
    "print(classification_report(y_svc_test, y_svc_test_pred))"
   ]
  },
  {
   "cell_type": "markdown",
   "metadata": {},
   "source": [
    "##### Log score"
   ]
  },
  {
   "cell_type": "code",
   "execution_count": 33,
   "metadata": {},
   "outputs": [],
   "source": [
    "classification_accuracy_scores.append(('SVC', training_acc, testing_acc))"
   ]
  },
  {
   "cell_type": "markdown",
   "metadata": {},
   "source": [
    "# 💎 KMeans clusters"
   ]
  },
  {
   "cell_type": "markdown",
   "metadata": {},
   "source": [
    "Without any color information or a training set, can the fancy/clear classes be identified?"
   ]
  },
  {
   "cell_type": "markdown",
   "metadata": {},
   "source": [
    "## Scale data"
   ]
  },
  {
   "cell_type": "markdown",
   "metadata": {},
   "source": [
    "(NB: Using Euclidean distance)"
   ]
  },
  {
   "cell_type": "code",
   "execution_count": 34,
   "metadata": {},
   "outputs": [],
   "source": [
    "no_color_km = drop_colors(diamonds)\n",
    "scaler = StandardScaler()\n",
    "\n",
    "# Note 'is_fancy' not included in scaled data\n",
    "no_color_km_scaled = scaler.fit_transform(no_color_km.drop(columns='is_fancy'))"
   ]
  },
  {
   "cell_type": "markdown",
   "metadata": {},
   "source": [
    "## KMeans"
   ]
  },
  {
   "cell_type": "code",
   "execution_count": 51,
   "metadata": {},
   "outputs": [],
   "source": [
    "km = KMeans(n_clusters=2)\n",
    "km.fit(no_color_km_scaled)\n",
    "no_color_km['cluster'] = km.labels_"
   ]
  },
  {
   "cell_type": "code",
   "execution_count": 52,
   "metadata": {},
   "outputs": [
    {
     "data": {
      "text/html": [
       "<div>\n",
       "<style scoped>\n",
       "    .dataframe tbody tr th:only-of-type {\n",
       "        vertical-align: middle;\n",
       "    }\n",
       "\n",
       "    .dataframe tbody tr th {\n",
       "        vertical-align: top;\n",
       "    }\n",
       "\n",
       "    .dataframe thead th {\n",
       "        text-align: right;\n",
       "    }\n",
       "</style>\n",
       "<table border=\"1\" class=\"dataframe\">\n",
       "  <thead>\n",
       "    <tr style=\"text-align: right;\">\n",
       "      <th>cluster</th>\n",
       "      <th>0</th>\n",
       "      <th>1</th>\n",
       "    </tr>\n",
       "    <tr>\n",
       "      <th>is_fancy</th>\n",
       "      <th></th>\n",
       "      <th></th>\n",
       "    </tr>\n",
       "  </thead>\n",
       "  <tbody>\n",
       "    <tr>\n",
       "      <th>False</th>\n",
       "      <td>297</td>\n",
       "      <td>84768</td>\n",
       "    </tr>\n",
       "    <tr>\n",
       "      <th>True</th>\n",
       "      <td>8836</td>\n",
       "      <td>87</td>\n",
       "    </tr>\n",
       "  </tbody>\n",
       "</table>\n",
       "</div>"
      ],
      "text/plain": [
       "cluster      0      1\n",
       "is_fancy             \n",
       "False      297  84768\n",
       "True      8836     87"
      ]
     },
     "execution_count": 52,
     "metadata": {},
     "output_type": "execute_result"
    }
   ],
   "source": [
    "pd.pivot_table(data=no_color_km, values='polish', aggfunc='count', index='is_fancy', columns='cluster').sort_index()"
   ]
  },
  {
   "cell_type": "markdown",
   "metadata": {},
   "source": [
    "Map cluster numbers to (Boolean) outcomes.  Pay attention: 0 does not aways map to False. "
   ]
  },
  {
   "cell_type": "code",
   "execution_count": 53,
   "metadata": {},
   "outputs": [
    {
     "data": {
      "text/plain": [
       "{1: False, 0: True}"
      ]
     },
     "execution_count": 53,
     "metadata": {},
     "output_type": "execute_result"
    }
   ],
   "source": [
    "associations = no_color_km.groupby(['cluster', 'is_fancy']).count().iloc[:, 0]\n",
    "max_association = associations[associations == associations.max()].reset_index()\n",
    "max_cluster = max_association['cluster'][0]\n",
    "max_is_fancy = max_association['is_fancy'][0]\n",
    "cluster_map = {}\n",
    "cluster_map[max_cluster] = max_is_fancy\n",
    "other_cluster = 0 if max_cluster == 1 else 1\n",
    "cluster_map[other_cluster] = not cluster_map[max_cluster]\n",
    "cluster_map"
   ]
  },
  {
   "cell_type": "code",
   "execution_count": 58,
   "metadata": {},
   "outputs": [
    {
     "name": "stdout",
     "output_type": "stream",
     "text": [
      "[[84768   297]\n",
      " [   87  8836]]\n",
      "\n",
      "Accuracy: 99.59%\n",
      "              precision    recall  f1-score   support\n",
      "\n",
      "       False       1.00      1.00      1.00     85065\n",
      "        True       0.97      0.99      0.98      8923\n",
      "\n",
      "    accuracy                           1.00     93988\n",
      "   macro avg       0.98      0.99      0.99     93988\n",
      "weighted avg       1.00      1.00      1.00     93988\n",
      "\n"
     ]
    }
   ],
   "source": [
    "no_color_km['cluster_is_fancy'] = no_color_km['cluster'].map(cluster_map)\n",
    "\n",
    "acc = accuracy_score(no_color_km.is_fancy, no_color_km.cluster_is_fancy)\n",
    "\n",
    "print(confusion_matrix(no_color_km.is_fancy, no_color_km.cluster_is_fancy))\n",
    "print()\n",
    "print(f'Accuracy: {acc:.2%}')\n",
    "print(classification_report(no_color_km.is_fancy, no_color_km.cluster_is_fancy))\n"
   ]
  },
  {
   "cell_type": "markdown",
   "metadata": {},
   "source": [
    "😊 Not bad"
   ]
  },
  {
   "cell_type": "markdown",
   "metadata": {},
   "source": [
    "##### Log score"
   ]
  },
  {
   "cell_type": "code",
   "execution_count": 61,
   "metadata": {},
   "outputs": [
    {
     "data": {
      "text/plain": [
       "0.9959143720474954"
      ]
     },
     "execution_count": 61,
     "metadata": {},
     "output_type": "execute_result"
    }
   ],
   "source": [
    "acc"
   ]
  },
  {
   "cell_type": "code",
   "execution_count": 64,
   "metadata": {},
   "outputs": [],
   "source": [
    "classification_accuracy_scores.append(('KMeans', 0, acc))\n"
   ]
  },
  {
   "cell_type": "code",
   "execution_count": 65,
   "metadata": {},
   "outputs": [
    {
     "data": {
      "text/plain": [
       "[('BRF', 0.9977443929012214, 0.9971911307826531),\n",
       " ('BRF_no_shape', 0.9929210821239591, 0.9867642677788654),\n",
       " ('SVC', 0.9972620618234952, 0.9971911307826531),\n",
       " ('KMeans', 0, 0.9959143720474954)]"
      ]
     },
     "execution_count": 65,
     "metadata": {},
     "output_type": "execute_result"
    }
   ],
   "source": [
    "classification_accuracy_scores"
   ]
  },
  {
   "cell_type": "markdown",
   "metadata": {},
   "source": [
    "# Classification accuracy scores"
   ]
  },
  {
   "cell_type": "code",
   "execution_count": 60,
   "metadata": {},
   "outputs": [
    {
     "data": {
      "text/plain": [
       "[('BRF', 0.9977443929012214, 0.9971911307826531),\n",
       " ('BRF_no_shape', 0.9929210821239591, 0.9867642677788654),\n",
       " ('SVC', 0.9972620618234952, 0.9971911307826531),\n",
       " ('KMeans', 0, 0.9215325360684342)]"
      ]
     },
     "execution_count": 60,
     "metadata": {},
     "output_type": "execute_result"
    }
   ],
   "source": [
    "# del(classification_accuracy_scores[-2])\n",
    "classification_accuracy_scores"
   ]
  },
  {
   "cell_type": "code",
   "execution_count": 66,
   "metadata": {},
   "outputs": [
    {
     "data": {
      "text/html": [
       "<div>\n",
       "<style scoped>\n",
       "    .dataframe tbody tr th:only-of-type {\n",
       "        vertical-align: middle;\n",
       "    }\n",
       "\n",
       "    .dataframe tbody tr th {\n",
       "        vertical-align: top;\n",
       "    }\n",
       "\n",
       "    .dataframe thead th {\n",
       "        text-align: right;\n",
       "    }\n",
       "</style>\n",
       "<table border=\"1\" class=\"dataframe\">\n",
       "  <thead>\n",
       "    <tr style=\"text-align: right;\">\n",
       "      <th></th>\n",
       "      <th>model</th>\n",
       "      <th>training_accuracy</th>\n",
       "      <th>testing_accuracy</th>\n",
       "    </tr>\n",
       "  </thead>\n",
       "  <tbody>\n",
       "    <tr>\n",
       "      <th>0</th>\n",
       "      <td>BRF</td>\n",
       "      <td>0.997744</td>\n",
       "      <td>0.997191</td>\n",
       "    </tr>\n",
       "    <tr>\n",
       "      <th>1</th>\n",
       "      <td>BRF_no_shape</td>\n",
       "      <td>0.992921</td>\n",
       "      <td>0.986764</td>\n",
       "    </tr>\n",
       "    <tr>\n",
       "      <th>2</th>\n",
       "      <td>SVC</td>\n",
       "      <td>0.997262</td>\n",
       "      <td>0.997191</td>\n",
       "    </tr>\n",
       "    <tr>\n",
       "      <th>3</th>\n",
       "      <td>KMeans</td>\n",
       "      <td>0.000000</td>\n",
       "      <td>0.995914</td>\n",
       "    </tr>\n",
       "  </tbody>\n",
       "</table>\n",
       "</div>"
      ],
      "text/plain": [
       "          model  training_accuracy  testing_accuracy\n",
       "0           BRF           0.997744          0.997191\n",
       "1  BRF_no_shape           0.992921          0.986764\n",
       "2           SVC           0.997262          0.997191\n",
       "3        KMeans           0.000000          0.995914"
      ]
     },
     "execution_count": 66,
     "metadata": {},
     "output_type": "execute_result"
    }
   ],
   "source": [
    "class_acc = pd.DataFrame.from_records(classification_accuracy_scores, columns=['model', 'training_accuracy', 'testing_accuracy'])\n",
    "class_acc"
   ]
  },
  {
   "cell_type": "code",
   "execution_count": 69,
   "metadata": {},
   "outputs": [
    {
     "data": {
      "image/png": "[encoded data removed]",
      "text/plain": [
       "<Figure size 640x480 with 1 Axes>"
      ]
     },
     "metadata": {},
     "output_type": "display_data"
    }
   ],
   "source": [
    "sns.set_style('white')\n",
    "acc_melt = class_acc.melt(id_vars='model', var_name='score_type', value_name='accuracy')\n",
    "sns.barplot(acc_melt, x='model', y='accuracy', hue='score_type', palette=['#5c7cfa', '#38d9a9'], legend=False)\n",
    "plt.ylim(0.97, 1.0)\n",
    "# plt.xticks(ticks=[])\n",
    "sns.despine()\n",
    "plt.tick_params(tick1On=False)\n",
    "\n",
    "# for i in ax.containers:\n",
    "#     ax.bar_label(i,)\n",
    "\n",
    "plt.show()"
   ]
  },
  {
   "cell_type": "markdown",
   "metadata": {},
   "source": [
    "# 💎 Linear Regression, revisited"
   ]
  },
  {
   "cell_type": "markdown",
   "metadata": {},
   "source": [
    "Can we improve the performance by removing outliers?\n",
    "\n",
    "Clear diamonds only this time."
   ]
  },
  {
   "cell_type": "code",
   "execution_count": 43,
   "metadata": {},
   "outputs": [],
   "source": [
    "shape_dummies = pd.get_dummies(clear_diamonds['shape'], dtype='int', prefix='shape')\n",
    "shape_dummies.columns = shape_dummies.columns.str.replace(' ', '_')\n",
    "clear_diamonds = pd.merge(clear_diamonds.drop(columns=['dominant_color', 'shape']), shape_dummies, left_index=True, right_index=True)"
   ]
  },
  {
   "cell_type": "markdown",
   "metadata": {},
   "source": [
    "### Outliers in numerical columns"
   ]
  },
  {
   "cell_type": "markdown",
   "metadata": {},
   "source": [
    "#### Use boxplots to look for outliers"
   ]
  },
  {
   "cell_type": "code",
   "execution_count": 44,
   "metadata": {},
   "outputs": [
    {
     "data": {
      "image/png": "[encoded data removed]",
      "text/plain": [
       "<Figure size 1200x300 with 4 Axes>"
      ]
     },
     "metadata": {},
     "output_type": "display_data"
    }
   ],
   "source": [
    "clear_num = clear_diamonds[[c for c in num_vars if c in clear_diamonds.columns]]\n",
    "clear_num_melted = clear_num.melt(var_name='feature')\n",
    "\n",
    "sns.set_style('white')\n",
    "# bp_grid = sns.FacetGrid(clear_num_melted, col='feature', sharey=False)\n",
    "# bp_grid.map_(sns.boxplot, 'feature', 'value')\n",
    "# plt.show()\n",
    "\n",
    "bp_grid = sns.FacetGrid(clear_num_melted, col='feature', sharey=False)\n",
    "bp_grid.map_dataframe(sns.boxplot)\n",
    "plt.show()"
   ]
  },
  {
   "cell_type": "markdown",
   "metadata": {},
   "source": [
    "These are really messy.  Let's look at higher percentiles instead."
   ]
  },
  {
   "cell_type": "markdown",
   "metadata": {},
   "source": [
    "#### Use quantiles to define outliers"
   ]
  },
  {
   "cell_type": "code",
   "execution_count": 45,
   "metadata": {},
   "outputs": [
    {
     "data": {
      "text/html": [
       "<div>\n",
       "<style scoped>\n",
       "    .dataframe tbody tr th:only-of-type {\n",
       "        vertical-align: middle;\n",
       "    }\n",
       "\n",
       "    .dataframe tbody tr th {\n",
       "        vertical-align: top;\n",
       "    }\n",
       "\n",
       "    .dataframe thead th {\n",
       "        text-align: right;\n",
       "    }\n",
       "</style>\n",
       "<table border=\"1\" class=\"dataframe\">\n",
       "  <thead>\n",
       "    <tr style=\"text-align: right;\">\n",
       "      <th></th>\n",
       "      <th>carat_weight</th>\n",
       "      <th>depth_percent</th>\n",
       "      <th>table_percent</th>\n",
       "      <th>total_sales_price</th>\n",
       "    </tr>\n",
       "  </thead>\n",
       "  <tbody>\n",
       "    <tr>\n",
       "      <th>0.90</th>\n",
       "      <td>1.18</td>\n",
       "      <td>63.6</td>\n",
       "      <td>60.0</td>\n",
       "      <td>10889.40</td>\n",
       "    </tr>\n",
       "    <tr>\n",
       "      <th>0.91</th>\n",
       "      <td>1.23</td>\n",
       "      <td>63.7</td>\n",
       "      <td>60.0</td>\n",
       "      <td>11953.96</td>\n",
       "    </tr>\n",
       "    <tr>\n",
       "      <th>0.92</th>\n",
       "      <td>1.31</td>\n",
       "      <td>63.9</td>\n",
       "      <td>61.0</td>\n",
       "      <td>12833.88</td>\n",
       "    </tr>\n",
       "    <tr>\n",
       "      <th>0.93</th>\n",
       "      <td>1.50</td>\n",
       "      <td>64.0</td>\n",
       "      <td>61.0</td>\n",
       "      <td>14406.52</td>\n",
       "    </tr>\n",
       "    <tr>\n",
       "      <th>0.94</th>\n",
       "      <td>1.51</td>\n",
       "      <td>64.1</td>\n",
       "      <td>61.0</td>\n",
       "      <td>15710.16</td>\n",
       "    </tr>\n",
       "    <tr>\n",
       "      <th>0.95</th>\n",
       "      <td>1.67</td>\n",
       "      <td>64.2</td>\n",
       "      <td>61.0</td>\n",
       "      <td>18469.40</td>\n",
       "    </tr>\n",
       "    <tr>\n",
       "      <th>0.96</th>\n",
       "      <td>1.81</td>\n",
       "      <td>64.3</td>\n",
       "      <td>61.0</td>\n",
       "      <td>22410.00</td>\n",
       "    </tr>\n",
       "    <tr>\n",
       "      <th>0.97</th>\n",
       "      <td>2.01</td>\n",
       "      <td>64.4</td>\n",
       "      <td>62.0</td>\n",
       "      <td>27468.64</td>\n",
       "    </tr>\n",
       "    <tr>\n",
       "      <th>0.98</th>\n",
       "      <td>2.28</td>\n",
       "      <td>64.5</td>\n",
       "      <td>62.0</td>\n",
       "      <td>34651.44</td>\n",
       "    </tr>\n",
       "    <tr>\n",
       "      <th>0.99</th>\n",
       "      <td>3.02</td>\n",
       "      <td>64.7</td>\n",
       "      <td>63.0</td>\n",
       "      <td>51186.56</td>\n",
       "    </tr>\n",
       "  </tbody>\n",
       "</table>\n",
       "</div>"
      ],
      "text/plain": [
       "      carat_weight  depth_percent  table_percent  total_sales_price\n",
       "0.90          1.18           63.6           60.0           10889.40\n",
       "0.91          1.23           63.7           60.0           11953.96\n",
       "0.92          1.31           63.9           61.0           12833.88\n",
       "0.93          1.50           64.0           61.0           14406.52\n",
       "0.94          1.51           64.1           61.0           15710.16\n",
       "0.95          1.67           64.2           61.0           18469.40\n",
       "0.96          1.81           64.3           61.0           22410.00\n",
       "0.97          2.01           64.4           62.0           27468.64\n",
       "0.98          2.28           64.5           62.0           34651.44\n",
       "0.99          3.02           64.7           63.0           51186.56"
      ]
     },
     "execution_count": 45,
     "metadata": {},
     "output_type": "execute_result"
    }
   ],
   "source": [
    "clear_num.quantile(q=np.arange(0.9, 1.0, 0.01))"
   ]
  },
  {
   "cell_type": "markdown",
   "metadata": {},
   "source": [
    "For a given quantile *q* (say 0.90 <= *q* <= 0.99), if I exclude any row that has one or more values at or above its column quantile value, how many/what percent of rows am I retaining?\n",
    "\n",
    "NB: This code is a single loop that both generates the retention percentage described above and calculates the regression lines & scores for each value of *q*."
   ]
  },
  {
   "cell_type": "code",
   "execution_count": 46,
   "metadata": {},
   "outputs": [],
   "source": [
    "retention_pct = {}\n",
    "scores = []\n",
    "\n",
    "for q in range(90, 100):\n",
    "    # qth quantile for each column\n",
    "    qt = clear_num.quantile(q/100) # Series of quantiles, one for each column\n",
    "    retained_rows = clear_diamonds[(clear_num < qt).all(axis=1)]\n",
    "    \n",
    "    # percent of rows that would be kept\n",
    "    retention_pct[q] = retained_rows.shape[0] / clear_num.shape[0] * 100\n",
    "\n",
    "    # model\n",
    "    X = retained_rows.drop(columns='total_sales_price')\n",
    "    y = retained_rows['total_sales_price']\n",
    "    X_train, X_test, y_train, y_svc_test = train_test_split(X, y)\n",
    "    lr = LinearRegression()\n",
    "    lr.fit(X_train, y_train)\n",
    "\n",
    "    # log scores\n",
    "    scores.append((q, lr.score(X_train, y_train), lr.score(X_test, y_svc_test)))\n",
    "\n",
    "scores_df = pd.DataFrame.from_records(scores, columns=['q', 'training_score', 'testing_score'])"
   ]
  },
  {
   "cell_type": "code",
   "execution_count": 47,
   "metadata": {},
   "outputs": [
    {
     "data": {
      "text/plain": [
       "{90: 63.33862340563099,\n",
       " 91: 64.78810321518839,\n",
       " 92: 75.40586610239228,\n",
       " 93: 77.08340680655968,\n",
       " 94: 78.79856580262152,\n",
       " 95: 81.0051137365544,\n",
       " 96: 82.99065420560747,\n",
       " 97: 89.79133603714806,\n",
       " 98: 92.16128842649739,\n",
       " 99: 96.58849115382354}"
      ]
     },
     "execution_count": 47,
     "metadata": {},
     "output_type": "execute_result"
    }
   ],
   "source": [
    "retention_pct"
   ]
  },
  {
   "cell_type": "markdown",
   "metadata": {},
   "source": [
    "##### Graph the retention percentages for 0.90 <= *q* <= 0.99 "
   ]
  },
  {
   "cell_type": "code",
   "execution_count": 48,
   "metadata": {},
   "outputs": [
    {
     "data": {
      "image/png": "[encoded data removed]",
      "text/plain": [
       "<Figure size 640x480 with 1 Axes>"
      ]
     },
     "metadata": {},
     "output_type": "display_data"
    }
   ],
   "source": [
    "sns.set_style(\"whitegrid\")\n",
    "retention = pd.Series(retention_pct)\n",
    "retention_plot = sns.lineplot(retention, marker=\"o\")\n",
    "plt.xlabel('quantile')\n",
    "plt.ylabel('% rows retained')\n",
    "plt.xlim(90, 99)\n",
    "plt.xticks(range(90, 100, 1))\n",
    "plt.show()"
   ]
  },
  {
   "cell_type": "markdown",
   "metadata": {},
   "source": [
    "##### Graph the model scores for 0.90 <= *q* <= 0.99 "
   ]
  },
  {
   "cell_type": "code",
   "execution_count": 49,
   "metadata": {},
   "outputs": [
    {
     "data": {
      "text/html": [
       "<div>\n",
       "<style scoped>\n",
       "    .dataframe tbody tr th:only-of-type {\n",
       "        vertical-align: middle;\n",
       "    }\n",
       "\n",
       "    .dataframe tbody tr th {\n",
       "        vertical-align: top;\n",
       "    }\n",
       "\n",
       "    .dataframe thead th {\n",
       "        text-align: right;\n",
       "    }\n",
       "</style>\n",
       "<table border=\"1\" class=\"dataframe\">\n",
       "  <thead>\n",
       "    <tr style=\"text-align: right;\">\n",
       "      <th></th>\n",
       "      <th>q</th>\n",
       "      <th>training_score</th>\n",
       "      <th>testing_score</th>\n",
       "    </tr>\n",
       "  </thead>\n",
       "  <tbody>\n",
       "    <tr>\n",
       "      <th>0</th>\n",
       "      <td>90</td>\n",
       "      <td>0.904843</td>\n",
       "      <td>0.904632</td>\n",
       "    </tr>\n",
       "    <tr>\n",
       "      <th>1</th>\n",
       "      <td>91</td>\n",
       "      <td>0.900153</td>\n",
       "      <td>0.896772</td>\n",
       "    </tr>\n",
       "    <tr>\n",
       "      <th>2</th>\n",
       "      <td>92</td>\n",
       "      <td>0.892972</td>\n",
       "      <td>0.894707</td>\n",
       "    </tr>\n",
       "    <tr>\n",
       "      <th>3</th>\n",
       "      <td>93</td>\n",
       "      <td>0.890181</td>\n",
       "      <td>0.888135</td>\n",
       "    </tr>\n",
       "    <tr>\n",
       "      <th>4</th>\n",
       "      <td>94</td>\n",
       "      <td>0.888495</td>\n",
       "      <td>0.886858</td>\n",
       "    </tr>\n",
       "    <tr>\n",
       "      <th>5</th>\n",
       "      <td>95</td>\n",
       "      <td>0.889892</td>\n",
       "      <td>0.893631</td>\n",
       "    </tr>\n",
       "    <tr>\n",
       "      <th>6</th>\n",
       "      <td>96</td>\n",
       "      <td>0.889574</td>\n",
       "      <td>0.890466</td>\n",
       "    </tr>\n",
       "    <tr>\n",
       "      <th>7</th>\n",
       "      <td>97</td>\n",
       "      <td>0.882511</td>\n",
       "      <td>0.884475</td>\n",
       "    </tr>\n",
       "    <tr>\n",
       "      <th>8</th>\n",
       "      <td>98</td>\n",
       "      <td>0.876424</td>\n",
       "      <td>0.875695</td>\n",
       "    </tr>\n",
       "    <tr>\n",
       "      <th>9</th>\n",
       "      <td>99</td>\n",
       "      <td>0.865372</td>\n",
       "      <td>0.864760</td>\n",
       "    </tr>\n",
       "  </tbody>\n",
       "</table>\n",
       "</div>"
      ],
      "text/plain": [
       "    q  training_score  testing_score\n",
       "0  90        0.904843       0.904632\n",
       "1  91        0.900153       0.896772\n",
       "2  92        0.892972       0.894707\n",
       "3  93        0.890181       0.888135\n",
       "4  94        0.888495       0.886858\n",
       "5  95        0.889892       0.893631\n",
       "6  96        0.889574       0.890466\n",
       "7  97        0.882511       0.884475\n",
       "8  98        0.876424       0.875695\n",
       "9  99        0.865372       0.864760"
      ]
     },
     "execution_count": 49,
     "metadata": {},
     "output_type": "execute_result"
    }
   ],
   "source": [
    "scores_df"
   ]
  },
  {
   "cell_type": "code",
   "execution_count": 75,
   "metadata": {},
   "outputs": [
    {
     "data": {
      "image/png": "[encoded data removed]",
      "text/plain": [
       "<Figure size 640x480 with 1 Axes>"
      ]
     },
     "metadata": {},
     "output_type": "display_data"
    }
   ],
   "source": [
    "sns.set_style(\"whitegrid\")\n",
    "scores_melt = scores_df.melt(id_vars='q', var_name='score_type', value_name='score_value')\n",
    "sns.lineplot(scores_melt, x='q', y='score_value', hue='score_type')\n",
    "plt.xticks(range(90, 100, 1))\n",
    "# plt.yticks(np.arange(0.6, 1.0, 0.05)) # Previous score was 0.62\n",
    "plt.show()"
   ]
  }
 ],
 "metadata": {
  "kernelspec": {
   "display_name": "IOD2",
   "language": "python",
   "name": "python3"
  },
  "language_info": {
   "codemirror_mode": {
    "name": "ipython",
    "version": 3
   },
   "file_extension": ".py",
   "mimetype": "text/x-python",
   "name": "python",
   "nbconvert_exporter": "python",
   "pygments_lexer": "ipython3",
   "version": "3.10.14"
  }
 },
 "nbformat": 4,
 "nbformat_minor": 2
}
